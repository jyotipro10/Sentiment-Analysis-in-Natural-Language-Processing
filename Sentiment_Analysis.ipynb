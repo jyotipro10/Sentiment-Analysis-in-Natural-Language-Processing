{
  "nbformat": 4,
  "nbformat_minor": 0,
  "metadata": {
    "colab": {
      "name": "Sentiment_Analysis_Group_B.ipynb",
      "provenance": []
    },
    "kernelspec": {
      "name": "python3",
      "display_name": "Python 3"
    }
  },
  "cells": [
    {
      "cell_type": "markdown",
      "metadata": {
        "id": "Jf9mTxW0St8s",
        "colab_type": "text"
      },
      "source": [
        "## Sentiment Analysis\n",
        "Sentiment analysis refers to the use of natural language processing, text analysis, computational linguistics, and biometrics to systematically identify, extract, quantify, and study affective states and subjective information."
      ]
    },
    {
      "cell_type": "markdown",
      "metadata": {
        "id": "vdS-eoeOT0rG",
        "colab_type": "text"
      },
      "source": [
        "### Import the necessary modules\n"
      ]
    },
    {
      "cell_type": "code",
      "metadata": {
        "id": "a9sI3saBUFX-",
        "colab_type": "code",
        "colab": {}
      },
      "source": [
        "import numpy as np\n",
        "import sklearn\n",
        "from sklearn import preprocessing\n",
        "from sklearn.preprocessing import LabelEncoder\n",
        "from sklearn import model_selection\n",
        "from sklearn import metrics\n",
        "import pandas as pd\n",
        "import matplotlib.pyplot as plt\n",
        "import pickle\n",
        "\n",
        "# Few more modules will be imported while they are required"
      ],
      "execution_count": null,
      "outputs": []
    },
    {
      "cell_type": "markdown",
      "metadata": {
        "id": "8XDgVMU0VRYj",
        "colab_type": "text"
      },
      "source": [
        "### Import the dataset\n",
        "\n",
        "Go here and download the dataset : https://drive.google.com/file/d/1i4TJrwOaRR12fb1HIdNZqfTGVG-n6qUC/view?usp=sharing"
      ]
    },
    {
      "cell_type": "code",
      "metadata": {
        "id": "yEJatDrFVhlH",
        "colab_type": "code",
        "colab": {
          "base_uri": "https://localhost:8080/",
          "height": 450
        },
        "outputId": "d7acd530-87f3-4984-bccd-d183016eb3f7"
      },
      "source": [
        "# The dataset is available here\n",
        "# https://drive.google.com/file/d/1i4TJrwOaRR12fb1HIdNZqfTGVG-n6qUC/view?usp=sharing\n",
        "\n",
        "df = pd.read_csv('dataset.csv')\n",
        "df.set_index('index')"
      ],
      "execution_count": null,
      "outputs": [
        {
          "output_type": "execute_result",
          "data": {
            "text/html": [
              "<div>\n",
              "<style scoped>\n",
              "    .dataframe tbody tr th:only-of-type {\n",
              "        vertical-align: middle;\n",
              "    }\n",
              "\n",
              "    .dataframe tbody tr th {\n",
              "        vertical-align: top;\n",
              "    }\n",
              "\n",
              "    .dataframe thead th {\n",
              "        text-align: right;\n",
              "    }\n",
              "</style>\n",
              "<table border=\"1\" class=\"dataframe\">\n",
              "  <thead>\n",
              "    <tr style=\"text-align: right;\">\n",
              "      <th></th>\n",
              "      <th>attributes</th>\n",
              "      <th>sentiment</th>\n",
              "      <th>text</th>\n",
              "    </tr>\n",
              "    <tr>\n",
              "      <th>index</th>\n",
              "      <th></th>\n",
              "      <th></th>\n",
              "      <th></th>\n",
              "    </tr>\n",
              "  </thead>\n",
              "  <tbody>\n",
              "    <tr>\n",
              "      <th>0</th>\n",
              "      <td>NaN</td>\n",
              "      <td>0</td>\n",
              "      <td>I HATE plane crash movies...ALL of them! In fa...</td>\n",
              "    </tr>\n",
              "    <tr>\n",
              "      <th>1</th>\n",
              "      <td>NaN</td>\n",
              "      <td>0</td>\n",
              "      <td>Richard Dreyfuss is, indeed, in this flick, bu...</td>\n",
              "    </tr>\n",
              "    <tr>\n",
              "      <th>2</th>\n",
              "      <td>NaN</td>\n",
              "      <td>0</td>\n",
              "      <td>I had some expectation for the movie, since it...</td>\n",
              "    </tr>\n",
              "    <tr>\n",
              "      <th>3</th>\n",
              "      <td>NaN</td>\n",
              "      <td>1</td>\n",
              "      <td>Playwright Sidney Bruhl (a wonderfully over-th...</td>\n",
              "    </tr>\n",
              "    <tr>\n",
              "      <th>4</th>\n",
              "      <td>NaN</td>\n",
              "      <td>1</td>\n",
              "      <td>As an employee of the Swedish Air Force I enjo...</td>\n",
              "    </tr>\n",
              "    <tr>\n",
              "      <th>...</th>\n",
              "      <td>...</td>\n",
              "      <td>...</td>\n",
              "      <td>...</td>\n",
              "    </tr>\n",
              "    <tr>\n",
              "      <th>24995</th>\n",
              "      <td>NaN</td>\n",
              "      <td>0</td>\n",
              "      <td>For months preceding the release of this movie...</td>\n",
              "    </tr>\n",
              "    <tr>\n",
              "      <th>24996</th>\n",
              "      <td>NaN</td>\n",
              "      <td>0</td>\n",
              "      <td>Hip. Erotic. Wickedly sexy ... whatever. It's ...</td>\n",
              "    </tr>\n",
              "    <tr>\n",
              "      <th>24997</th>\n",
              "      <td>NaN</td>\n",
              "      <td>1</td>\n",
              "      <td>\"Fraidy Cat\", the 4th of these cartoons, is a ...</td>\n",
              "    </tr>\n",
              "    <tr>\n",
              "      <th>24998</th>\n",
              "      <td>NaN</td>\n",
              "      <td>0</td>\n",
              "      <td>This movie is little more than poorly-made, fe...</td>\n",
              "    </tr>\n",
              "    <tr>\n",
              "      <th>24999</th>\n",
              "      <td>NaN</td>\n",
              "      <td>0</td>\n",
              "      <td>What begins as a fairly clever farce about a s...</td>\n",
              "    </tr>\n",
              "  </tbody>\n",
              "</table>\n",
              "<p>25000 rows × 3 columns</p>\n",
              "</div>"
            ],
            "text/plain": [
              "       attributes  sentiment                                               text\n",
              "index                                                                          \n",
              "0             NaN          0  I HATE plane crash movies...ALL of them! In fa...\n",
              "1             NaN          0  Richard Dreyfuss is, indeed, in this flick, bu...\n",
              "2             NaN          0  I had some expectation for the movie, since it...\n",
              "3             NaN          1  Playwright Sidney Bruhl (a wonderfully over-th...\n",
              "4             NaN          1  As an employee of the Swedish Air Force I enjo...\n",
              "...           ...        ...                                                ...\n",
              "24995         NaN          0  For months preceding the release of this movie...\n",
              "24996         NaN          0  Hip. Erotic. Wickedly sexy ... whatever. It's ...\n",
              "24997         NaN          1  \"Fraidy Cat\", the 4th of these cartoons, is a ...\n",
              "24998         NaN          0  This movie is little more than poorly-made, fe...\n",
              "24999         NaN          0  What begins as a fairly clever farce about a s...\n",
              "\n",
              "[25000 rows x 3 columns]"
            ]
          },
          "metadata": {
            "tags": []
          },
          "execution_count": 2
        }
      ]
    },
    {
      "cell_type": "markdown",
      "metadata": {
        "id": "_RG51_TkY8vH",
        "colab_type": "text"
      },
      "source": [
        "#### Printing out the basic information about the dataframe"
      ]
    },
    {
      "cell_type": "code",
      "metadata": {
        "id": "Ekx6T8qrZRNj",
        "colab_type": "code",
        "colab": {
          "base_uri": "https://localhost:8080/",
          "height": 226
        },
        "outputId": "fe88ebba-4d96-433f-c65a-66f818adf510"
      },
      "source": [
        "df.info()"
      ],
      "execution_count": null,
      "outputs": [
        {
          "output_type": "stream",
          "text": [
            "<class 'pandas.core.frame.DataFrame'>\n",
            "RangeIndex: 25000 entries, 0 to 24999\n",
            "Data columns (total 4 columns):\n",
            " #   Column      Non-Null Count  Dtype  \n",
            "---  ------      --------------  -----  \n",
            " 0   index       25000 non-null  int64  \n",
            " 1   attributes  0 non-null      float64\n",
            " 2   sentiment   25000 non-null  int64  \n",
            " 3   text        25000 non-null  object \n",
            "dtypes: float64(1), int64(2), object(1)\n",
            "memory usage: 781.4+ KB\n"
          ],
          "name": "stdout"
        }
      ]
    },
    {
      "cell_type": "code",
      "metadata": {
        "id": "NX6XPSvGZWeT",
        "colab_type": "code",
        "colab": {
          "base_uri": "https://localhost:8080/",
          "height": 359
        },
        "outputId": "d12aafcf-053b-4184-bd85-cc8e14ed59f6"
      },
      "source": [
        "# Diplaying first 10 data\n",
        "\n",
        "df.head(10)"
      ],
      "execution_count": null,
      "outputs": [
        {
          "output_type": "execute_result",
          "data": {
            "text/html": [
              "<div>\n",
              "<style scoped>\n",
              "    .dataframe tbody tr th:only-of-type {\n",
              "        vertical-align: middle;\n",
              "    }\n",
              "\n",
              "    .dataframe tbody tr th {\n",
              "        vertical-align: top;\n",
              "    }\n",
              "\n",
              "    .dataframe thead th {\n",
              "        text-align: right;\n",
              "    }\n",
              "</style>\n",
              "<table border=\"1\" class=\"dataframe\">\n",
              "  <thead>\n",
              "    <tr style=\"text-align: right;\">\n",
              "      <th></th>\n",
              "      <th>index</th>\n",
              "      <th>attributes</th>\n",
              "      <th>sentiment</th>\n",
              "      <th>text</th>\n",
              "    </tr>\n",
              "  </thead>\n",
              "  <tbody>\n",
              "    <tr>\n",
              "      <th>0</th>\n",
              "      <td>0</td>\n",
              "      <td>NaN</td>\n",
              "      <td>0</td>\n",
              "      <td>I HATE plane crash movies...ALL of them! In fa...</td>\n",
              "    </tr>\n",
              "    <tr>\n",
              "      <th>1</th>\n",
              "      <td>1</td>\n",
              "      <td>NaN</td>\n",
              "      <td>0</td>\n",
              "      <td>Richard Dreyfuss is, indeed, in this flick, bu...</td>\n",
              "    </tr>\n",
              "    <tr>\n",
              "      <th>2</th>\n",
              "      <td>2</td>\n",
              "      <td>NaN</td>\n",
              "      <td>0</td>\n",
              "      <td>I had some expectation for the movie, since it...</td>\n",
              "    </tr>\n",
              "    <tr>\n",
              "      <th>3</th>\n",
              "      <td>3</td>\n",
              "      <td>NaN</td>\n",
              "      <td>1</td>\n",
              "      <td>Playwright Sidney Bruhl (a wonderfully over-th...</td>\n",
              "    </tr>\n",
              "    <tr>\n",
              "      <th>4</th>\n",
              "      <td>4</td>\n",
              "      <td>NaN</td>\n",
              "      <td>1</td>\n",
              "      <td>As an employee of the Swedish Air Force I enjo...</td>\n",
              "    </tr>\n",
              "    <tr>\n",
              "      <th>5</th>\n",
              "      <td>5</td>\n",
              "      <td>NaN</td>\n",
              "      <td>1</td>\n",
              "      <td>I saw this film last night on cable and it is ...</td>\n",
              "    </tr>\n",
              "    <tr>\n",
              "      <th>6</th>\n",
              "      <td>6</td>\n",
              "      <td>NaN</td>\n",
              "      <td>0</td>\n",
              "      <td>I originally gave this episode a rating of two...</td>\n",
              "    </tr>\n",
              "    <tr>\n",
              "      <th>7</th>\n",
              "      <td>7</td>\n",
              "      <td>NaN</td>\n",
              "      <td>1</td>\n",
              "      <td>First of all, when people hear 'GUY RITCHIE', ...</td>\n",
              "    </tr>\n",
              "    <tr>\n",
              "      <th>8</th>\n",
              "      <td>8</td>\n",
              "      <td>NaN</td>\n",
              "      <td>0</td>\n",
              "      <td>Van Dien must cringe with embarrassment at the...</td>\n",
              "    </tr>\n",
              "    <tr>\n",
              "      <th>9</th>\n",
              "      <td>9</td>\n",
              "      <td>NaN</td>\n",
              "      <td>0</td>\n",
              "      <td>Zombi 3 starts as a group of heavily armed men...</td>\n",
              "    </tr>\n",
              "  </tbody>\n",
              "</table>\n",
              "</div>"
            ],
            "text/plain": [
              "   index  ...                                               text\n",
              "0      0  ...  I HATE plane crash movies...ALL of them! In fa...\n",
              "1      1  ...  Richard Dreyfuss is, indeed, in this flick, bu...\n",
              "2      2  ...  I had some expectation for the movie, since it...\n",
              "3      3  ...  Playwright Sidney Bruhl (a wonderfully over-th...\n",
              "4      4  ...  As an employee of the Swedish Air Force I enjo...\n",
              "5      5  ...  I saw this film last night on cable and it is ...\n",
              "6      6  ...  I originally gave this episode a rating of two...\n",
              "7      7  ...  First of all, when people hear 'GUY RITCHIE', ...\n",
              "8      8  ...  Van Dien must cringe with embarrassment at the...\n",
              "9      9  ...  Zombi 3 starts as a group of heavily armed men...\n",
              "\n",
              "[10 rows x 4 columns]"
            ]
          },
          "metadata": {
            "tags": []
          },
          "execution_count": 4
        }
      ]
    },
    {
      "cell_type": "markdown",
      "metadata": {
        "id": "XMXdqiwmaS6c",
        "colab_type": "text"
      },
      "source": [
        "### TfidfTransformer\n",
        "The formula that is used to compute the tf-idf for a term t of a document d in a document set is tf-idf(t, d) = tf(t, d) * idf(t), and the idf is computed as idf(t) = log [ n / df(t) ] + 1 (if smooth_idf=False), where n is the total number of documents in the document set and df(t) is the document frequency of t; the document frequency is the number of documents in the document set that contain the term t. The effect of adding “1” to the idf in the equation above is that terms with zero idf, i.e., terms that occur in all documents in a training set, will not be entirely ignored"
      ]
    },
    {
      "cell_type": "code",
      "metadata": {
        "id": "NkKWbFYSasl4",
        "colab_type": "code",
        "colab": {}
      },
      "source": [
        "from sklearn.feature_extraction.text import TfidfTransformer\n",
        "np.set_printoptions(precision = 2) #2 decimal roundoff\n",
        "\n",
        "tfidf = TfidfTransformer(use_idf = True,norm = 'l2',smooth_idf = True) #l2 norm means sum of the squares the elements\n",
        "                                                                       #in a row is 1\n",
        "                                                                       #smooth_idf = smoothing function"
      ],
      "execution_count": null,
      "outputs": []
    },
    {
      "cell_type": "markdown",
      "metadata": {
        "id": "u_RL_Jpqc2Gx",
        "colab_type": "text"
      },
      "source": [
        "### Preprocessing\n",
        "\n",
        "Viewing a data before preprocessing"
      ]
    },
    {
      "cell_type": "code",
      "metadata": {
        "id": "qAAQI_E6dB38",
        "colab_type": "code",
        "colab": {
          "base_uri": "https://localhost:8080/",
          "height": 131
        },
        "outputId": "baa57cf5-bc52-43ac-eb3c-ac441687ae8b"
      },
      "source": [
        "df['text'][0]"
      ],
      "execution_count": null,
      "outputs": [
        {
          "output_type": "execute_result",
          "data": {
            "application/vnd.google.colaboratory.intrinsic+json": {
              "type": "string"
            },
            "text/plain": [
              "'I HATE plane crash movies...ALL of them! In fact, I hate them all with a passion! First of all, they are cheap-looking and have no craftsmanship! Secondly, they insult the airline industry and say to the audience that all planes do is...FALL OUT OF THE SKY AND CRASH!  Why I wince at such a film? This could happen to any of us and with worser consequences than those suffered by the characters in said movie...which is the only chilling aspect of an airline disaster yarn such as this. I hate this movie because it\\'s like all the 50,000,000 stupid-ass airplane chaos movies before it! Freefall is like all the others: nothing more than boredom before the clichéd bullshit dramatic scenes take place.   First, off we have same cast of retards on this flying death trap: The Cleaver-esquire family of three, the yuppie baastard, and the bitch of a flight attendant complete with a big blond hairdo from 1987 scolding anyone who is the least bit frightened!   My second gripe is this shouldn\\'t be a full-length movie, but a documentary explaining everything about the Air Canada \"Gimbli Glider\" incident a.k.a \"Freefall\" right down to the safety precautions.  My third and final gripe is with all airline films of this caliber(with the exception of Fearless) Why the hell did the male steward instruct the passengers to remove there shoes? (I could understand high heels and sharp, loose objects, but c\\'mon!)Like that\\'s gonna\\' make them any more f#*king safer than they are now! This plane if they(the passengers) didn\\'t know any better: knew they were going to crash land. Why would you force 100 injured people down a rubber slide that can cause skin to peel and bleed on impact only to walk in their stocking feet on a debris field! Does this make any sense to anyone?  Fearless and the hit ABC series \"Lost\" had more depth and realism to air disaster than just \"plane malfunctions-people panic-stewards become assholes-plane lands without wheels in a field-people wander without shoes and jackets, etc. The same old crap from Airport 1975! Freefall was so typical of a air-crash movie that I almost expect to see either Charlton Heston or Peter Graves burst into the damn passenger cabin at any moment. Could we at least see how these poorly-acted characters go back to normalcy instead of people rejoicing amidst the impending tragedy that is staring in front of them? Typical moronic Lifetime movie! Cheap and Stupid!   The director of \"Freefall\" should stick to cheap made-for-TV movies with white middle-aged women with stupid teenage kids who do drugs and have marital problems. As for suspense...leave it to the professionals...you hack! Why should we the audience sit through over an hour and a half of this Airport wannabe rehash. I hope to god they don\\'t make plane crash movies like this anymore. If this were like the ABC series \"Lost\" then it would be something to watch. But this is utter crap and then some. Stop turning every plane disaster movie into \"Airport 1975\"! This is not \"Airport\" this is cheap pathetic waste of my time. I would not recommend this movie or any made-for-TV air disaster movie to anyone not even my worst enemies.'"
            ]
          },
          "metadata": {
            "tags": []
          },
          "execution_count": 6
        }
      ]
    },
    {
      "cell_type": "markdown",
      "metadata": {
        "id": "8wujXKn1cTWo",
        "colab_type": "text"
      },
      "source": [
        "Using regex to remove unnecessary letters and using lower()"
      ]
    },
    {
      "cell_type": "code",
      "metadata": {
        "id": "A4jmzcDna2DE",
        "colab_type": "code",
        "colab": {}
      },
      "source": [
        "import re\n",
        "def preprocessor(text):\n",
        "    text = re.sub('<[^>]*>', '', text)\n",
        "    emoticons = re.findall('(?::|;|=)(?:-)?(?:\\)|\\(|D|P)', text)\n",
        "    text = re.sub('[\\W]+', ' ', text.lower()) +\\\n",
        "        ' '.join(emoticons).replace('-', '')\n",
        "    return text"
      ],
      "execution_count": null,
      "outputs": []
    },
    {
      "cell_type": "code",
      "metadata": {
        "id": "3GMRIXWLcUB8",
        "colab_type": "code",
        "colab": {}
      },
      "source": [
        "# Using only sentiment and text coloumn\n",
        "\n",
        "df = df[['sentiment','text']]"
      ],
      "execution_count": null,
      "outputs": []
    },
    {
      "cell_type": "code",
      "metadata": {
        "id": "9NyoYy85cmqs",
        "colab_type": "code",
        "colab": {}
      },
      "source": [
        "df['text'] = df['text'].apply(preprocessor)"
      ],
      "execution_count": null,
      "outputs": []
    },
    {
      "cell_type": "markdown",
      "metadata": {
        "id": "ClyG1Pg6cus2",
        "colab_type": "text"
      },
      "source": [
        "Viewing the data after preprocessing"
      ]
    },
    {
      "cell_type": "code",
      "metadata": {
        "id": "2D7Yt2jQdPxS",
        "colab_type": "code",
        "colab": {
          "base_uri": "https://localhost:8080/",
          "height": 131
        },
        "outputId": "65e41dc8-476e-41f4-b178-806ddf09fa21"
      },
      "source": [
        "df['text'][0]"
      ],
      "execution_count": null,
      "outputs": [
        {
          "output_type": "execute_result",
          "data": {
            "application/vnd.google.colaboratory.intrinsic+json": {
              "type": "string"
            },
            "text/plain": [
              "'i hate plane crash movies all of them in fact i hate them all with a passion first of all they are cheap looking and have no craftsmanship secondly they insult the airline industry and say to the audience that all planes do is fall out of the sky and crash why i wince at such a film this could happen to any of us and with worser consequences than those suffered by the characters in said movie which is the only chilling aspect of an airline disaster yarn such as this i hate this movie because it s like all the 50 000 000 stupid ass airplane chaos movies before it freefall is like all the others nothing more than boredom before the clichéd bullshit dramatic scenes take place first off we have same cast of retards on this flying death trap the cleaver esquire family of three the yuppie baastard and the bitch of a flight attendant complete with a big blond hairdo from 1987 scolding anyone who is the least bit frightened my second gripe is this shouldn t be a full length movie but a documentary explaining everything about the air canada gimbli glider incident a k a freefall right down to the safety precautions my third and final gripe is with all airline films of this caliber with the exception of fearless why the hell did the male steward instruct the passengers to remove there shoes i could understand high heels and sharp loose objects but c mon like that s gonna make them any more f king safer than they are now this plane if they the passengers didn t know any better knew they were going to crash land why would you force 100 injured people down a rubber slide that can cause skin to peel and bleed on impact only to walk in their stocking feet on a debris field does this make any sense to anyone fearless and the hit abc series lost had more depth and realism to air disaster than just plane malfunctions people panic stewards become assholes plane lands without wheels in a field people wander without shoes and jackets etc the same old crap from airport 1975 freefall was so typical of a air crash movie that i almost expect to see either charlton heston or peter graves burst into the damn passenger cabin at any moment could we at least see how these poorly acted characters go back to normalcy instead of people rejoicing amidst the impending tragedy that is staring in front of them typical moronic lifetime movie cheap and stupid the director of freefall should stick to cheap made for tv movies with white middle aged women with stupid teenage kids who do drugs and have marital problems as for suspense leave it to the professionals you hack why should we the audience sit through over an hour and a half of this airport wannabe rehash i hope to god they don t make plane crash movies like this anymore if this were like the abc series lost then it would be something to watch but this is utter crap and then some stop turning every plane disaster movie into airport 1975 this is not airport this is cheap pathetic waste of my time i would not recommend this movie or any made for tv air disaster movie to anyone not even my worst enemies '"
            ]
          },
          "metadata": {
            "tags": []
          },
          "execution_count": 10
        }
      ]
    },
    {
      "cell_type": "markdown",
      "metadata": {
        "id": "rkOFBhiedbIZ",
        "colab_type": "text"
      },
      "source": [
        "### The Porter stemming algorithm (or ‘Porter stemmer’) \n",
        "It is a process for removing the commoner morphological and inflexional endings from words in English. Its main use is as part of a term normalisation process that is usually done when setting up Information Retrieval systems."
      ]
    },
    {
      "cell_type": "code",
      "metadata": {
        "id": "jLTUCnNfd1aV",
        "colab_type": "code",
        "colab": {}
      },
      "source": [
        "from nltk.stem.porter import PorterStemmer\n",
        "porter = PorterStemmer()"
      ],
      "execution_count": null,
      "outputs": []
    },
    {
      "cell_type": "code",
      "metadata": {
        "id": "yXcFvm96eBtu",
        "colab_type": "code",
        "colab": {}
      },
      "source": [
        "def tokenizer_porter(text) :\n",
        "    return [porter.stem(word) for word in text.split()]"
      ],
      "execution_count": null,
      "outputs": []
    },
    {
      "cell_type": "code",
      "metadata": {
        "id": "-X7eNKeAeEk0",
        "colab_type": "code",
        "colab": {
          "base_uri": "https://localhost:8080/",
          "height": 74
        },
        "outputId": "8d12ef47-1be7-4b0d-918f-ac4be47ff7e5"
      },
      "source": [
        "# Stopwords\n",
        "import nltk\n",
        "nltk.download('stopwords')"
      ],
      "execution_count": null,
      "outputs": [
        {
          "output_type": "stream",
          "text": [
            "[nltk_data] Downloading package stopwords to /root/nltk_data...\n",
            "[nltk_data]   Unzipping corpora/stopwords.zip.\n"
          ],
          "name": "stdout"
        },
        {
          "output_type": "execute_result",
          "data": {
            "text/plain": [
              "True"
            ]
          },
          "metadata": {
            "tags": []
          },
          "execution_count": 13
        }
      ]
    },
    {
      "cell_type": "code",
      "metadata": {
        "id": "o9okLjl8eKM5",
        "colab_type": "code",
        "colab": {}
      },
      "source": [
        "from nltk.corpus import stopwords\n",
        "stop = stopwords.words('english')"
      ],
      "execution_count": null,
      "outputs": []
    },
    {
      "cell_type": "markdown",
      "metadata": {
        "id": "FOhY23rWekIJ",
        "colab_type": "text"
      },
      "source": [
        "### TfidfVectorizer - Equivalent to CountVectorizer followed by TfidfTransformer.\n",
        "\n",
        "#### Bag of Words\n",
        "Text Analysis is a major application field for machine learning algorithms. However, the raw data, a sequence of symbols cannot be fed directly to the algorithms themselves as most of them expect numerical feature vectors with a fixed size rather than the raw text documents with variable length. \n",
        "\n",
        "In order to address this, scikit-learn provides utilities for the most common ways to extract numerical features from text content, namely: \n",
        "\n",
        "  - tokenizing strings and giving an integer id for each possible token, for instance by using white-spaces and punctuation as token separators. \n",
        "\n",
        "  - counting the occurrences of tokens in each document. \n",
        "\n",
        "  - normalizing and weighting with diminishing importance tokens that occur in the majority of samples / documents. \n",
        "\n",
        "In this scheme, features and samples are defined as follows: \n",
        "\n",
        "  - each individual token occurrence frequency (normalized or not) is treated as a feature. \n",
        "\n",
        "  - the vector of all the token frequencies for a given document is considered a multivariate sample. \n",
        "\n",
        "A corpus of documents can thus be represented by a matrix with one row per document and one column per token (e.g. word) occurring in the corpus. \n",
        "\n",
        "We call vectorization the general process of turning a collection of text documents into numerical feature vectors. This specific strategy (tokenization, counting and normalization) is called the Bag of Words or “Bag of n-grams” representation. Documents are described by word occurrences while completely ignoring the relative position information of the words in the document. \n"
      ]
    },
    {
      "cell_type": "code",
      "metadata": {
        "id": "p-hVysATeNuF",
        "colab_type": "code",
        "colab": {}
      },
      "source": [
        "from sklearn.feature_extraction.text import TfidfVectorizer\n",
        "tfidf = TfidfVectorizer(strip_accents = None,\n",
        "                        preprocessor = None,\n",
        "                        tokenizer = tokenizer_porter,\n",
        "                        lowercase = False,\n",
        "                        use_idf = True,\n",
        "                        norm = 'l2',\n",
        "                        smooth_idf = True)\n",
        "Y = df.sentiment.values\n",
        "X = tfidf.fit_transform(df.text)"
      ],
      "execution_count": null,
      "outputs": []
    },
    {
      "cell_type": "code",
      "metadata": {
        "id": "OIdZC3U9egm2",
        "colab_type": "code",
        "colab": {
          "base_uri": "https://localhost:8080/",
          "height": 36
        },
        "outputId": "458ec23c-a1be-418d-ada0-20c578482afa"
      },
      "source": [
        "np.shape(X)"
      ],
      "execution_count": null,
      "outputs": [
        {
          "output_type": "execute_result",
          "data": {
            "text/plain": [
              "(25000, 51374)"
            ]
          },
          "metadata": {
            "tags": []
          },
          "execution_count": 16
        }
      ]
    },
    {
      "cell_type": "code",
      "metadata": {
        "id": "Q7-IQU33fC5e",
        "colab_type": "code",
        "colab": {
          "base_uri": "https://localhost:8080/",
          "height": 36
        },
        "outputId": "85888af4-2d60-496a-ef02-dfb2257457c3"
      },
      "source": [
        "np.shape(Y)"
      ],
      "execution_count": null,
      "outputs": [
        {
          "output_type": "execute_result",
          "data": {
            "text/plain": [
              "(25000,)"
            ]
          },
          "metadata": {
            "tags": []
          },
          "execution_count": 17
        }
      ]
    },
    {
      "cell_type": "markdown",
      "metadata": {
        "id": "C9sfEinjg0FN",
        "colab_type": "text"
      },
      "source": [
        "### Splitting the dataset"
      ]
    },
    {
      "cell_type": "code",
      "metadata": {
        "id": "mj7U_nq4fJEp",
        "colab_type": "code",
        "colab": {}
      },
      "source": [
        "from sklearn.model_selection import train_test_split\n",
        "X_train,X_test,y_train,y_test = train_test_split(X,Y,random_state = 1,test_size = 0.3,shuffle = True)"
      ],
      "execution_count": null,
      "outputs": []
    },
    {
      "cell_type": "markdown",
      "metadata": {
        "id": "EJd7FKcnbeqt",
        "colab_type": "text"
      },
      "source": [
        "### Method 1 - LogisticRegressionCV\n",
        "\n",
        "Logistic regression, despite its name, is a linear model for classification rather than regression. Logistic regression is also known in the literature as logit regression, maximum-entropy classification (MaxEnt) or the log-linear classifier. In this model, the probabilities describing the possible outcomes of a single trial are modeled using a logistic function. This implementation can fit binary, One Vs-Rest, or multinomial logistic regression with optional l1, l2 or Elastic-Net regularization."
      ]
    },
    {
      "cell_type": "code",
      "metadata": {
        "id": "xEo4CZ3AhDMT",
        "colab_type": "code",
        "colab": {
          "base_uri": "https://localhost:8080/",
          "height": 55
        },
        "outputId": "df5acf23-c208-4c14-9efe-732ba0b2f07a"
      },
      "source": [
        "import pickle  ## saving model for future reference\n",
        "from sklearn.linear_model import LogisticRegressionCV\n",
        "\n",
        "clf = LogisticRegressionCV(cv = 5,scoring = 'accuracy',random_state = 0,n_jobs = -1,\n",
        "                            verbose = 3,max_iter = 300).fit(X_train,y_train)\n",
        "\n",
        "project_model = open('project_model.sav','wb')\n",
        "pickle.dump(clf,project_model)\n",
        "project_model.close()"
      ],
      "execution_count": null,
      "outputs": [
        {
          "output_type": "stream",
          "text": [
            "[Parallel(n_jobs=-1)]: Using backend LokyBackend with 2 concurrent workers.\n",
            "[Parallel(n_jobs=-1)]: Done   5 out of   5 | elapsed:  1.6min finished\n"
          ],
          "name": "stderr"
        }
      ]
    },
    {
      "cell_type": "code",
      "metadata": {
        "id": "2ZWAIymuhOR8",
        "colab_type": "code",
        "colab": {}
      },
      "source": [
        "import pickle\n",
        "filename = 'project_model.sav'\n",
        "project_clf = pickle.load(open(filename,'rb'))"
      ],
      "execution_count": null,
      "outputs": []
    },
    {
      "cell_type": "code",
      "metadata": {
        "id": "UPRWQSVehx35",
        "colab_type": "code",
        "colab": {
          "base_uri": "https://localhost:8080/",
          "height": 36
        },
        "outputId": "b2ab47ce-e87a-4a92-ad20-07df0f64e6c0"
      },
      "source": [
        "lrcv_acc = project_clf.score(X_test,y_test)   ## prediction accuracy\n",
        "print(\"LogisticRegressionCV Accuracy:\",lrcv_acc)"
      ],
      "execution_count": null,
      "outputs": [
        {
          "output_type": "stream",
          "text": [
            "LogisticRegressionCV Accuracy: 0.8917333333333334\n"
          ],
          "name": "stdout"
        }
      ]
    },
    {
      "cell_type": "markdown",
      "metadata": {
        "id": "DfCek8zIiF7K",
        "colab_type": "text"
      },
      "source": [
        "### Method 2 - MultinomialNB\n",
        "\n",
        "MultinomialNB implements the naive Bayes algorithm for multinomially distributed data, and is one of the two classic naive Bayes variants used in text classification (where the data are typically represented as word vector counts, although tf-idf vectors are also known to work well in practice). The distribution is parametrized by vectors "
      ]
    },
    {
      "cell_type": "code",
      "metadata": {
        "id": "lgftJthriovi",
        "colab_type": "code",
        "colab": {
          "base_uri": "https://localhost:8080/",
          "height": 36
        },
        "outputId": "54310be4-318e-452c-ae45-9b106bd541a5"
      },
      "source": [
        "from sklearn.naive_bayes import MultinomialNB\n",
        "#Import scikit-learn metrics module for accuracy calculation\n",
        "from sklearn import metrics\n",
        "# Model Generation Using Multinomial Naive Bayes\n",
        "clf = MultinomialNB().fit(X_train, y_train)\n",
        "predicted= clf.predict(X_test)\n",
        "mnb_acc = metrics.accuracy_score(y_test, predicted)\n",
        "print(\"MultinomialNB Accuracy:\",mnb_acc)"
      ],
      "execution_count": null,
      "outputs": [
        {
          "output_type": "stream",
          "text": [
            "MultinomialNB Accuracy: 0.8613333333333333\n"
          ],
          "name": "stdout"
        }
      ]
    },
    {
      "cell_type": "markdown",
      "metadata": {
        "id": "CfKiL240mBZw",
        "colab_type": "text"
      },
      "source": [
        "### Comparison between the two methods demonstrated above"
      ]
    },
    {
      "cell_type": "code",
      "metadata": {
        "id": "y--QfEJ6jELq",
        "colab_type": "code",
        "colab": {
          "base_uri": "https://localhost:8080/",
          "height": 281
        },
        "outputId": "e03a48d8-3734-48be-854e-c9854c8bc8d3"
      },
      "source": [
        "plt.bar([0.1, 0.2], [lrcv_acc, mnb_acc], width=0.08)\n",
        "plt.ylabel('Accuracy')\n",
        "plt.xticks([0.1, 0.2], ['LogisticRegressionCV', 'MultinomialNB'])\n",
        "plt.title('Accuracy of  LogisticRegressionCV vs MultinomialNB')\n",
        "plt.show()"
      ],
      "execution_count": null,
      "outputs": [
        {
          "output_type": "display_data",
          "data": {
            "image/png": "[encoded data removed]",
            "text/plain": [
              "<Figure size 432x288 with 1 Axes>"
            ]
          },
          "metadata": {
            "tags": [],
            "needs_background": "light"
          }
        }
      ]
    },
    {
      "cell_type": "code",
      "metadata": {
        "id": "mcj3hji8mWS1",
        "colab_type": "code",
        "colab": {}
      },
      "source": [
        ""
      ],
      "execution_count": null,
      "outputs": []
    }
  ]
}